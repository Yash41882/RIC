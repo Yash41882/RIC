{
 "cells": [
  {
   "cell_type": "code",
   "execution_count": 1,
   "metadata": {
    "_cell_guid": "b1076dfc-b9ad-4769-8c92-a6c4dae69d19",
    "_uuid": "8f2839f25d086af736a60e9eeb907d3b93b6e0e5",
    "execution": {
     "iopub.execute_input": "2021-11-29T02:07:00.373813Z",
     "iopub.status.busy": "2021-11-29T02:07:00.371871Z",
     "iopub.status.idle": "2021-11-29T02:07:00.389333Z",
     "shell.execute_reply": "2021-11-29T02:07:00.390060Z",
     "shell.execute_reply.started": "2021-11-29T01:22:38.757382Z"
    },
    "papermill": {
     "duration": 0.065021,
     "end_time": "2021-11-29T02:07:00.390453",
     "exception": false,
     "start_time": "2021-11-29T02:07:00.325432",
     "status": "completed"
    },
    "tags": []
   },
   "outputs": [],
   "source": [
    "# This Python 3 environment comes with many helpful analytics libraries installed\n",
    "# It is defined by the kaggle/python Docker image: https://github.com/kaggle/docker-python\n",
    "# For example, here's several helpful packages to load\n",
    "\n",
    "import numpy as np # linear algebra\n",
    "import pandas as pd # data processing, CSV file I/O (e.g. pd.read_csv)\n",
    "import matplotlib as plt\n",
    "\n",
    "# Input data files are available in the read-only \"../input/\" directory\n",
    "# For example, running this (by clicking run or pressing Shift+Enter) will list all files under the input directory\n",
    "\n",
    "import os\n",
    "for dirname, _, filenames in os.walk('/kaggle/input'):\n",
    "    for filename in filenames:\n",
    "        print(os.path.join(dirname, filename))\n",
    "\n",
    "# You can write up to 20GB to the current directory (/kaggle/working/) that gets preserved as output when you create a version using \"Save & Run All\" \n",
    "# You can also write temporary files to /kaggle/temp/, but they won't be saved outside of the current session"
   ]
  },
  {
   "cell_type": "code",
   "execution_count": 2,
   "metadata": {
    "execution": {
     "iopub.execute_input": "2021-11-29T02:07:00.476876Z",
     "iopub.status.busy": "2021-11-29T02:07:00.475951Z",
     "iopub.status.idle": "2021-11-29T02:07:06.252103Z",
     "shell.execute_reply": "2021-11-29T02:07:06.252612Z",
     "shell.execute_reply.started": "2021-11-29T01:22:38.769605Z"
    },
    "papermill": {
     "duration": 5.819054,
     "end_time": "2021-11-29T02:07:06.252780",
     "exception": false,
     "start_time": "2021-11-29T02:07:00.433726",
     "status": "completed"
    },
    "tags": []
   },
   "outputs": [],
   "source": [
    "app_df = pd.read_csv(\"application_data.csv\")"
   ]
  },
  {
   "cell_type": "code",
   "execution_count": 3,
   "metadata": {
    "execution": {
     "iopub.execute_input": "2021-11-29T02:07:06.326840Z",
     "iopub.status.busy": "2021-11-29T02:07:06.326251Z",
     "iopub.status.idle": "2021-11-29T02:07:06.330655Z",
     "shell.execute_reply": "2021-11-29T02:07:06.331236Z",
     "shell.execute_reply.started": "2021-11-29T01:22:41.548821Z"
    },
    "papermill": {
     "duration": 0.042589,
     "end_time": "2021-11-29T02:07:06.331411",
     "exception": false,
     "start_time": "2021-11-29T02:07:06.288822",
     "status": "completed"
    },
    "tags": []
   },
   "outputs": [
    {
     "name": "stdout",
     "output_type": "stream",
     "text": [
      "(307511, 122)\n"
     ]
    }
   ],
   "source": [
    "print(app_df.shape)"
   ]
  },
  {
   "cell_type": "code",
   "execution_count": 4,
   "metadata": {
    "execution": {
     "iopub.execute_input": "2021-11-29T02:07:06.406710Z",
     "iopub.status.busy": "2021-11-29T02:07:06.405861Z",
     "iopub.status.idle": "2021-11-29T02:07:06.680831Z",
     "shell.execute_reply": "2021-11-29T02:07:06.681318Z",
     "shell.execute_reply.started": "2021-11-29T01:22:41.556216Z"
    },
    "papermill": {
     "duration": 0.314335,
     "end_time": "2021-11-29T02:07:06.681490",
     "exception": false,
     "start_time": "2021-11-29T02:07:06.367155",
     "status": "completed"
    },
    "tags": []
   },
   "outputs": [
    {
     "data": {
      "text/plain": [
       "COMMONAREA_MEDI             0.698723\n",
       "COMMONAREA_AVG              0.698723\n",
       "COMMONAREA_MODE             0.698723\n",
       "NONLIVINGAPARTMENTS_MODE    0.694330\n",
       "NONLIVINGAPARTMENTS_MEDI    0.694330\n",
       "NONLIVINGAPARTMENTS_AVG     0.694330\n",
       "FONDKAPREMONT_MODE          0.683862\n",
       "LIVINGAPARTMENTS_MEDI       0.683550\n",
       "LIVINGAPARTMENTS_MODE       0.683550\n",
       "LIVINGAPARTMENTS_AVG        0.683550\n",
       "dtype: float64"
      ]
     },
     "execution_count": 4,
     "metadata": {},
     "output_type": "execute_result"
    }
   ],
   "source": [
    "#missing data \n",
    "missing_fractions = app_df.isnull().mean().sort_values(ascending=False)\n",
    "missing_fractions.head(10)"
   ]
  },
  {
   "cell_type": "markdown",
   "metadata": {
    "execution": {
     "iopub.execute_input": "2021-11-28T00:49:11.558848Z",
     "iopub.status.busy": "2021-11-28T00:49:11.558526Z",
     "iopub.status.idle": "2021-11-28T00:49:11.565471Z",
     "shell.execute_reply": "2021-11-28T00:49:11.564051Z",
     "shell.execute_reply.started": "2021-11-28T00:49:11.558818Z"
    },
    "papermill": {
     "duration": 0.036703,
     "end_time": "2021-11-29T02:07:06.756950",
     "exception": false,
     "start_time": "2021-11-29T02:07:06.720247",
     "status": "completed"
    },
    "tags": []
   },
   "source": [
    "# 1.Drop features "
   ]
  },
  {
   "cell_type": "markdown",
   "metadata": {
    "papermill": {
     "duration": 0.036015,
     "end_time": "2021-11-29T02:07:06.890445",
     "exception": false,
     "start_time": "2021-11-29T02:07:06.854430",
     "status": "completed"
    },
    "tags": []
   },
   "source": [
    "# Limit the Feature Space\n",
    "The full dataset has 122 features for each loan. We'll select features in two steps:\n",
    "\n",
    "1. Drop features with more than 30% of their data missing.\n",
    "2. Of the remaining features, choose only those that would be available to an investor before deciding to fund the loan."
   ]
  },
  {
   "cell_type": "code",
   "execution_count": 5,
   "metadata": {
    "execution": {
     "iopub.execute_input": "2021-11-29T02:07:06.971629Z",
     "iopub.status.busy": "2021-11-29T02:07:06.970919Z",
     "iopub.status.idle": "2021-11-29T02:07:07.927752Z",
     "shell.execute_reply": "2021-11-29T02:07:07.928305Z",
     "shell.execute_reply.started": "2021-11-29T01:22:41.801030Z"
    },
    "papermill": {
     "duration": 1.000616,
     "end_time": "2021-11-29T02:07:07.928494",
     "exception": false,
     "start_time": "2021-11-29T02:07:06.927878",
     "status": "completed"
    },
    "tags": []
   },
   "outputs": [],
   "source": [
    "import seaborn as sns\n",
    "import matplotlib.pyplot as plt\n",
    "import matplotlib as mpl\n",
    "%matplotlib inline\n",
    "mpl.style.use('ggplot')\n",
    "sns.set(style='whitegrid')"
   ]
  },
  {
   "cell_type": "code",
   "execution_count": 6,
   "metadata": {
    "execution": {
     "iopub.execute_input": "2021-11-29T02:07:08.015613Z",
     "iopub.status.busy": "2021-11-29T02:07:08.014616Z",
     "iopub.status.idle": "2021-11-29T02:07:08.525807Z",
     "shell.execute_reply": "2021-11-29T02:07:08.526331Z",
     "shell.execute_reply.started": "2021-11-29T01:22:41.812006Z"
    },
    "papermill": {
     "duration": 0.558908,
     "end_time": "2021-11-29T02:07:08.526507",
     "exception": false,
     "start_time": "2021-11-29T02:07:07.967599",
     "status": "completed"
    },
    "tags": []
   },
   "outputs": [
    {
     "data": {
      "text/plain": [
       "Text(0, 0.5, 'Feature count')"
      ]
     },
     "execution_count": 6,
     "metadata": {},
     "output_type": "execute_result"
    },
    {
     "data": {
      "image/png": "[encoded data removed]",
      "text/plain": [
       "<Figure size 540x270 with 1 Axes>"
      ]
     },
     "metadata": {},
     "output_type": "display_data"
    }
   ],
   "source": [
    "plt.figure(figsize=(6,3), dpi=90)\n",
    "missing_fractions.plot.hist(bins=20)\n",
    "plt.title('Histogram of Feature Incompleteness')\n",
    "plt.xlabel('Fraction of data missing')\n",
    "plt.ylabel('Feature count')"
   ]
  },
  {
   "cell_type": "code",
   "execution_count": 7,
   "metadata": {
    "execution": {
     "iopub.execute_input": "2021-11-29T02:07:08.611214Z",
     "iopub.status.busy": "2021-11-29T02:07:08.610553Z",
     "iopub.status.idle": "2021-11-29T02:07:08.613841Z",
     "shell.execute_reply": "2021-11-29T02:07:08.614262Z",
     "shell.execute_reply.started": "2021-11-29T01:22:42.095700Z"
    },
    "papermill": {
     "duration": 0.049561,
     "end_time": "2021-11-29T02:07:08.614432",
     "exception": false,
     "start_time": "2021-11-29T02:07:08.564871",
     "status": "completed"
    },
    "tags": []
   },
   "outputs": [
    {
     "data": {
      "text/plain": [
       "0    282686\n",
       "1     24825\n",
       "Name: TARGET, dtype: int64"
      ]
     },
     "execution_count": 7,
     "metadata": {},
     "output_type": "execute_result"
    }
   ],
   "source": [
    "app_df['TARGET'].value_counts(dropna=False)"
   ]
  },
  {
   "cell_type": "markdown",
   "metadata": {
    "papermill": {
     "duration": 0.037457,
     "end_time": "2021-11-29T02:07:08.689346",
     "exception": false,
     "start_time": "2021-11-29T02:07:08.651889",
     "status": "completed"
    },
    "tags": []
   },
   "source": [
    "# 1.1 Drop features missing more than 30% percent data"
   ]
  },
  {
   "cell_type": "code",
   "execution_count": 8,
   "metadata": {
    "execution": {
     "iopub.execute_input": "2021-11-29T02:07:08.770634Z",
     "iopub.status.busy": "2021-11-29T02:07:08.769916Z",
     "iopub.status.idle": "2021-11-29T02:07:08.773203Z",
     "shell.execute_reply": "2021-11-29T02:07:08.772637Z",
     "shell.execute_reply.started": "2021-11-29T01:22:42.106432Z"
    },
    "papermill": {
     "duration": 0.04714,
     "end_time": "2021-11-29T02:07:08.773349",
     "exception": false,
     "start_time": "2021-11-29T02:07:08.726209",
     "status": "completed"
    },
    "tags": []
   },
   "outputs": [
    {
     "name": "stdout",
     "output_type": "stream",
     "text": [
      "['APARTMENTS_AVG', 'APARTMENTS_MEDI', 'APARTMENTS_MODE', 'BASEMENTAREA_AVG', 'BASEMENTAREA_MEDI', 'BASEMENTAREA_MODE', 'COMMONAREA_AVG', 'COMMONAREA_MEDI', 'COMMONAREA_MODE', 'ELEVATORS_AVG', 'ELEVATORS_MEDI', 'ELEVATORS_MODE', 'EMERGENCYSTATE_MODE', 'ENTRANCES_AVG', 'ENTRANCES_MEDI', 'ENTRANCES_MODE', 'EXT_SOURCE_1', 'FLOORSMAX_AVG', 'FLOORSMAX_MEDI', 'FLOORSMAX_MODE', 'FLOORSMIN_AVG', 'FLOORSMIN_MEDI', 'FLOORSMIN_MODE', 'FONDKAPREMONT_MODE', 'HOUSETYPE_MODE', 'LANDAREA_AVG', 'LANDAREA_MEDI', 'LANDAREA_MODE', 'LIVINGAPARTMENTS_AVG', 'LIVINGAPARTMENTS_MEDI', 'LIVINGAPARTMENTS_MODE', 'LIVINGAREA_AVG', 'LIVINGAREA_MEDI', 'LIVINGAREA_MODE', 'NONLIVINGAPARTMENTS_AVG', 'NONLIVINGAPARTMENTS_MEDI', 'NONLIVINGAPARTMENTS_MODE', 'NONLIVINGAREA_AVG', 'NONLIVINGAREA_MEDI', 'NONLIVINGAREA_MODE', 'OCCUPATION_TYPE', 'OWN_CAR_AGE', 'TOTALAREA_MODE', 'WALLSMATERIAL_MODE', 'YEARS_BEGINEXPLUATATION_AVG', 'YEARS_BEGINEXPLUATATION_MEDI', 'YEARS_BEGINEXPLUATATION_MODE', 'YEARS_BUILD_AVG', 'YEARS_BUILD_MEDI', 'YEARS_BUILD_MODE']\n",
      "\n",
      "\n",
      " Drop Features:  50\n"
     ]
    }
   ],
   "source": [
    "drop_list = sorted(list(missing_fractions[missing_fractions > 0.3].index))\n",
    "print(drop_list)\n",
    "print(\"\\n\\n Drop Features: \", len(drop_list))"
   ]
  },
  {
   "cell_type": "code",
   "execution_count": 9,
   "metadata": {
    "execution": {
     "iopub.execute_input": "2021-11-29T02:07:08.856224Z",
     "iopub.status.busy": "2021-11-29T02:07:08.855558Z",
     "iopub.status.idle": "2021-11-29T02:07:08.935640Z",
     "shell.execute_reply": "2021-11-29T02:07:08.936119Z",
     "shell.execute_reply.started": "2021-11-29T01:22:42.124020Z"
    },
    "papermill": {
     "duration": 0.123938,
     "end_time": "2021-11-29T02:07:08.936353",
     "exception": false,
     "start_time": "2021-11-29T02:07:08.812415",
     "status": "completed"
    },
    "tags": []
   },
   "outputs": [],
   "source": [
    "app_df.drop(labels=drop_list, axis=1, inplace=True)"
   ]
  },
  {
   "cell_type": "code",
   "execution_count": 10,
   "metadata": {
    "execution": {
     "iopub.execute_input": "2021-11-29T02:07:09.016752Z",
     "iopub.status.busy": "2021-11-29T02:07:09.016183Z",
     "iopub.status.idle": "2021-11-29T02:07:09.020621Z",
     "shell.execute_reply": "2021-11-29T02:07:09.021115Z",
     "shell.execute_reply.started": "2021-11-29T01:22:42.206017Z"
    },
    "papermill": {
     "duration": 0.04544,
     "end_time": "2021-11-29T02:07:09.021283",
     "exception": false,
     "start_time": "2021-11-29T02:07:08.975843",
     "status": "completed"
    },
    "tags": []
   },
   "outputs": [
    {
     "data": {
      "text/plain": [
       "(307511, 72)"
      ]
     },
     "execution_count": 10,
     "metadata": {},
     "output_type": "execute_result"
    }
   ],
   "source": [
    "app_df.shape"
   ]
  },
  {
   "cell_type": "code",
   "execution_count": 11,
   "metadata": {
    "execution": {
     "iopub.execute_input": "2021-11-29T02:07:09.101625Z",
     "iopub.status.busy": "2021-11-29T02:07:09.101039Z",
     "iopub.status.idle": "2021-11-29T02:07:09.106318Z",
     "shell.execute_reply": "2021-11-29T02:07:09.106725Z",
     "shell.execute_reply.started": "2021-11-29T01:22:42.215199Z"
    },
    "papermill": {
     "duration": 0.048307,
     "end_time": "2021-11-29T02:07:09.106905",
     "exception": false,
     "start_time": "2021-11-29T02:07:09.058598",
     "status": "completed"
    },
    "tags": []
   },
   "outputs": [
    {
     "name": "stdout",
     "output_type": "stream",
     "text": [
      "Index(['SK_ID_CURR', 'TARGET', 'NAME_CONTRACT_TYPE', 'CODE_GENDER',\n",
      "       'FLAG_OWN_CAR', 'FLAG_OWN_REALTY', 'CNT_CHILDREN', 'AMT_INCOME_TOTAL',\n",
      "       'AMT_CREDIT', 'AMT_ANNUITY', 'AMT_GOODS_PRICE', 'NAME_TYPE_SUITE',\n",
      "       'NAME_INCOME_TYPE', 'NAME_EDUCATION_TYPE', 'NAME_FAMILY_STATUS',\n",
      "       'NAME_HOUSING_TYPE', 'REGION_POPULATION_RELATIVE', 'DAYS_BIRTH',\n",
      "       'DAYS_EMPLOYED', 'DAYS_REGISTRATION', 'DAYS_ID_PUBLISH', 'FLAG_MOBIL',\n",
      "       'FLAG_EMP_PHONE', 'FLAG_WORK_PHONE', 'FLAG_CONT_MOBILE', 'FLAG_PHONE',\n",
      "       'FLAG_EMAIL', 'CNT_FAM_MEMBERS', 'REGION_RATING_CLIENT',\n",
      "       'REGION_RATING_CLIENT_W_CITY', 'WEEKDAY_APPR_PROCESS_START',\n",
      "       'HOUR_APPR_PROCESS_START', 'REG_REGION_NOT_LIVE_REGION',\n",
      "       'REG_REGION_NOT_WORK_REGION', 'LIVE_REGION_NOT_WORK_REGION',\n",
      "       'REG_CITY_NOT_LIVE_CITY', 'REG_CITY_NOT_WORK_CITY',\n",
      "       'LIVE_CITY_NOT_WORK_CITY', 'ORGANIZATION_TYPE', 'EXT_SOURCE_2',\n",
      "       'EXT_SOURCE_3', 'OBS_30_CNT_SOCIAL_CIRCLE', 'DEF_30_CNT_SOCIAL_CIRCLE',\n",
      "       'OBS_60_CNT_SOCIAL_CIRCLE', 'DEF_60_CNT_SOCIAL_CIRCLE',\n",
      "       'DAYS_LAST_PHONE_CHANGE', 'FLAG_DOCUMENT_2', 'FLAG_DOCUMENT_3',\n",
      "       'FLAG_DOCUMENT_4', 'FLAG_DOCUMENT_5', 'FLAG_DOCUMENT_6',\n",
      "       'FLAG_DOCUMENT_7', 'FLAG_DOCUMENT_8', 'FLAG_DOCUMENT_9',\n",
      "       'FLAG_DOCUMENT_10', 'FLAG_DOCUMENT_11', 'FLAG_DOCUMENT_12',\n",
      "       'FLAG_DOCUMENT_13', 'FLAG_DOCUMENT_14', 'FLAG_DOCUMENT_15',\n",
      "       'FLAG_DOCUMENT_16', 'FLAG_DOCUMENT_17', 'FLAG_DOCUMENT_18',\n",
      "       'FLAG_DOCUMENT_19', 'FLAG_DOCUMENT_20', 'FLAG_DOCUMENT_21',\n",
      "       'AMT_REQ_CREDIT_BUREAU_HOUR', 'AMT_REQ_CREDIT_BUREAU_DAY',\n",
      "       'AMT_REQ_CREDIT_BUREAU_WEEK', 'AMT_REQ_CREDIT_BUREAU_MON',\n",
      "       'AMT_REQ_CREDIT_BUREAU_QRT', 'AMT_REQ_CREDIT_BUREAU_YEAR'],\n",
      "      dtype='object')\n"
     ]
    }
   ],
   "source": [
    "print(app_df.columns)"
   ]
  },
  {
   "cell_type": "markdown",
   "metadata": {
    "execution": {
     "iopub.execute_input": "2021-11-28T01:50:21.233394Z",
     "iopub.status.busy": "2021-11-28T01:50:21.232627Z",
     "iopub.status.idle": "2021-11-28T01:50:21.237372Z",
     "shell.execute_reply": "2021-11-28T01:50:21.2363Z",
     "shell.execute_reply.started": "2021-11-28T01:50:21.233352Z"
    },
    "papermill": {
     "duration": 0.038431,
     "end_time": "2021-11-29T02:07:09.183358",
     "exception": false,
     "start_time": "2021-11-29T02:07:09.144927",
     "status": "completed"
    },
    "tags": []
   },
   "source": [
    "# Columns of choice"
   ]
  },
  {
   "cell_type": "code",
   "execution_count": 12,
   "metadata": {
    "execution": {
     "iopub.execute_input": "2021-11-29T02:07:09.269487Z",
     "iopub.status.busy": "2021-11-29T02:07:09.268370Z",
     "iopub.status.idle": "2021-11-29T02:07:09.273874Z",
     "shell.execute_reply": "2021-11-29T02:07:09.274340Z",
     "shell.execute_reply.started": "2021-11-29T01:22:42.239650Z"
    },
    "papermill": {
     "duration": 0.048081,
     "end_time": "2021-11-29T02:07:09.274522",
     "exception": false,
     "start_time": "2021-11-29T02:07:09.226441",
     "status": "completed"
    },
    "tags": []
   },
   "outputs": [
    {
     "data": {
      "text/plain": [
       "['SK_ID_CURR']"
      ]
     },
     "execution_count": 12,
     "metadata": {},
     "output_type": "execute_result"
    }
   ],
   "source": [
    "#useless columns:\n",
    "[\"SK_ID_CURR\"]"
   ]
  },
  {
   "cell_type": "code",
   "execution_count": 13,
   "metadata": {
    "execution": {
     "iopub.execute_input": "2021-11-29T02:07:09.356870Z",
     "iopub.status.busy": "2021-11-29T02:07:09.355939Z",
     "iopub.status.idle": "2021-11-29T02:07:09.435607Z",
     "shell.execute_reply": "2021-11-29T02:07:09.435077Z",
     "shell.execute_reply.started": "2021-11-29T01:22:42.250833Z"
    },
    "papermill": {
     "duration": 0.12275,
     "end_time": "2021-11-29T02:07:09.435745",
     "exception": false,
     "start_time": "2021-11-29T02:07:09.312995",
     "status": "completed"
    },
    "tags": []
   },
   "outputs": [],
   "source": [
    "app_df.drop(labels=[\"SK_ID_CURR\"], axis=1, inplace=True)"
   ]
  },
  {
   "cell_type": "code",
   "execution_count": 14,
   "metadata": {
    "execution": {
     "iopub.execute_input": "2021-11-29T02:07:09.517059Z",
     "iopub.status.busy": "2021-11-29T02:07:09.516467Z",
     "iopub.status.idle": "2021-11-29T02:07:09.519758Z",
     "shell.execute_reply": "2021-11-29T02:07:09.520275Z",
     "shell.execute_reply.started": "2021-11-29T01:22:42.331621Z"
    },
    "papermill": {
     "duration": 0.044839,
     "end_time": "2021-11-29T02:07:09.520444",
     "exception": false,
     "start_time": "2021-11-29T02:07:09.475605",
     "status": "completed"
    },
    "tags": []
   },
   "outputs": [],
   "source": [
    "# Behavior of the applicant before the loan application\n",
    "Behavior=['AMT_REQ_CREDIT_BUREAU_DAY', 'AMT_REQ_CREDIT_BUREAU_HOUR',\n",
    "          'AMT_REQ_CREDIT_BUREAU_MON', 'AMT_REQ_CREDIT_BUREAU_QRT', 'AMT_REQ_CREDIT_BUREAU_WEEK', \n",
    "          'AMT_REQ_CREDIT_BUREAU_YEAR']"
   ]
  },
  {
   "cell_type": "code",
   "execution_count": 15,
   "metadata": {
    "execution": {
     "iopub.execute_input": "2021-11-29T02:07:09.599927Z",
     "iopub.status.busy": "2021-11-29T02:07:09.599270Z",
     "iopub.status.idle": "2021-11-29T02:07:09.602679Z",
     "shell.execute_reply": "2021-11-29T02:07:09.603165Z",
     "shell.execute_reply.started": "2021-11-29T01:22:42.336977Z"
    },
    "papermill": {
     "duration": 0.045013,
     "end_time": "2021-11-29T02:07:09.603336",
     "exception": false,
     "start_time": "2021-11-29T02:07:09.558323",
     "status": "completed"
    },
    "tags": []
   },
   "outputs": [],
   "source": [
    "#Different Behavior variables\n",
    "Behavior_2=['DAYS_EMPLOYED', 'DAYS_ID_PUBLISH', 'DAYS_LAST_PHONE_CHANGE', 'DAYS_REGISTRATION','WEEKDAY_APPR_PROCESS_START',\n",
    "       'HOUR_APPR_PROCESS_START']"
   ]
  },
  {
   "cell_type": "code",
   "execution_count": 16,
   "metadata": {
    "execution": {
     "iopub.execute_input": "2021-11-29T02:07:09.686448Z",
     "iopub.status.busy": "2021-11-29T02:07:09.685766Z",
     "iopub.status.idle": "2021-11-29T02:07:09.689900Z",
     "shell.execute_reply": "2021-11-29T02:07:09.690429Z",
     "shell.execute_reply.started": "2021-11-29T01:22:42.355384Z"
    },
    "papermill": {
     "duration": 0.048861,
     "end_time": "2021-11-29T02:07:09.690597",
     "exception": false,
     "start_time": "2021-11-29T02:07:09.641736",
     "status": "completed"
    },
    "tags": []
   },
   "outputs": [],
   "source": [
    "# indicator (dummy variable) whether the applicant provided ...\n",
    "Flag=['FLAG_MOBIL',\n",
    "       'FLAG_EMP_PHONE', 'FLAG_WORK_PHONE', 'FLAG_CONT_MOBILE', 'FLAG_PHONE',\n",
    "       'FLAG_EMAIL','FLAG_DOCUMENT_2', 'FLAG_DOCUMENT_3',\n",
    "       'FLAG_DOCUMENT_4', 'FLAG_DOCUMENT_5', 'FLAG_DOCUMENT_6',\n",
    "       'FLAG_DOCUMENT_7', 'FLAG_DOCUMENT_8', 'FLAG_DOCUMENT_9',\n",
    "       'FLAG_DOCUMENT_10', 'FLAG_DOCUMENT_11', 'FLAG_DOCUMENT_12',\n",
    "       'FLAG_DOCUMENT_13', 'FLAG_DOCUMENT_14', 'FLAG_DOCUMENT_15',\n",
    "       'FLAG_DOCUMENT_16', 'FLAG_DOCUMENT_17', 'FLAG_DOCUMENT_18',\n",
    "       'FLAG_DOCUMENT_19', 'FLAG_DOCUMENT_20', 'FLAG_DOCUMENT_21']"
   ]
  },
  {
   "cell_type": "code",
   "execution_count": 17,
   "metadata": {
    "execution": {
     "iopub.execute_input": "2021-11-29T02:07:09.788379Z",
     "iopub.status.busy": "2021-11-29T02:07:09.787703Z",
     "iopub.status.idle": "2021-11-29T02:07:09.792197Z",
     "shell.execute_reply": "2021-11-29T02:07:09.792720Z",
     "shell.execute_reply.started": "2021-11-29T01:22:42.370576Z"
    },
    "papermill": {
     "duration": 0.054134,
     "end_time": "2021-11-29T02:07:09.792886",
     "exception": false,
     "start_time": "2021-11-29T02:07:09.738752",
     "status": "completed"
    },
    "tags": []
   },
   "outputs": [],
   "source": [
    "# does not match variable (fraud?)\n",
    "notmatch=['REG_REGION_NOT_LIVE_REGION',\n",
    "       'REG_REGION_NOT_WORK_REGION', 'LIVE_REGION_NOT_WORK_REGION',\n",
    "       'REG_CITY_NOT_LIVE_CITY', 'REG_CITY_NOT_WORK_CITY',\n",
    "       'LIVE_CITY_NOT_WORK_CITY']"
   ]
  },
  {
   "cell_type": "code",
   "execution_count": 18,
   "metadata": {
    "execution": {
     "iopub.execute_input": "2021-11-29T02:07:09.880292Z",
     "iopub.status.busy": "2021-11-29T02:07:09.879621Z",
     "iopub.status.idle": "2021-11-29T02:07:09.883413Z",
     "shell.execute_reply": "2021-11-29T02:07:09.883935Z",
     "shell.execute_reply.started": "2021-11-29T01:22:42.386310Z"
    },
    "papermill": {
     "duration": 0.047421,
     "end_time": "2021-11-29T02:07:09.884154",
     "exception": false,
     "start_time": "2021-11-29T02:07:09.836733",
     "status": "completed"
    },
    "tags": []
   },
   "outputs": [],
   "source": [
    "#alarming columns ,past default record\n",
    "Default_record=['OBS_30_CNT_SOCIAL_CIRCLE', 'DEF_30_CNT_SOCIAL_CIRCLE',\n",
    "       'OBS_60_CNT_SOCIAL_CIRCLE', 'DEF_60_CNT_SOCIAL_CIRCLE']"
   ]
  },
  {
   "cell_type": "markdown",
   "metadata": {
    "papermill": {
     "duration": 0.038618,
     "end_time": "2021-11-29T02:07:09.968846",
     "exception": false,
     "start_time": "2021-11-29T02:07:09.930228",
     "status": "completed"
    },
    "tags": []
   },
   "source": [
    "# use .drop() to drop the columns you don't want"
   ]
  },
  {
   "cell_type": "code",
   "execution_count": 19,
   "metadata": {
    "execution": {
     "iopub.execute_input": "2021-11-29T02:07:10.061728Z",
     "iopub.status.busy": "2021-11-29T02:07:10.060955Z",
     "iopub.status.idle": "2021-11-29T02:07:10.071066Z",
     "shell.execute_reply": "2021-11-29T02:07:10.071588Z",
     "shell.execute_reply.started": "2021-11-29T01:22:42.409902Z"
    },
    "papermill": {
     "duration": 0.061157,
     "end_time": "2021-11-29T02:07:10.071763",
     "exception": false,
     "start_time": "2021-11-29T02:07:10.010606",
     "status": "completed"
    },
    "tags": []
   },
   "outputs": [],
   "source": [
    "#column that doesn't contain object input\n",
    "value_column=[]\n",
    "for i in range(app_df.shape[1]):\n",
    "    if type(app_df.iloc[1,i])!=str:\n",
    "        value_column.append(i)"
   ]
  },
  {
   "cell_type": "code",
   "execution_count": 20,
   "metadata": {
    "execution": {
     "iopub.execute_input": "2021-11-29T02:07:10.152784Z",
     "iopub.status.busy": "2021-11-29T02:07:10.152206Z",
     "iopub.status.idle": "2021-11-29T02:07:10.155651Z",
     "shell.execute_reply": "2021-11-29T02:07:10.156169Z",
     "shell.execute_reply.started": "2021-11-29T01:22:42.429139Z"
    },
    "papermill": {
     "duration": 0.045659,
     "end_time": "2021-11-29T02:07:10.156338",
     "exception": false,
     "start_time": "2021-11-29T02:07:10.110679",
     "status": "completed"
    },
    "tags": []
   },
   "outputs": [],
   "source": [
    "#app_df.loc[:,app_df.columns[value_column]].describe().transpose()"
   ]
  },
  {
   "cell_type": "markdown",
   "metadata": {
    "papermill": {
     "duration": 0.038883,
     "end_time": "2021-11-29T02:07:10.234957",
     "exception": false,
     "start_time": "2021-11-29T02:07:10.196074",
     "status": "completed"
    },
    "tags": []
   },
   "source": [
    "# Pearson correlation matrix\n",
    "We use the Pearson correlation coefficient to examine the strength and direction of the linear relationship between two continuous variables.\n",
    "\n",
    "The correlation coefficient can range in value from −1 to +1. The larger the absolute value of the coefficient, the stronger the relationship between the variables. For the Pearson correlation, an absolute value of 1 indicates a perfect linear relationship. A correlation close to 0 indicates no linear relationship between the variables.\n",
    "\n",
    "The sign of the coefficient indicates the direction of the relationship. If both variables tend to increase or decrease together, the coefficient is positive, and the line that represents the correlation slopes upward. If one variable tends to increase as the other decreases, the coefficient is negative, and the line that represents the correlation slopes downward."
   ]
  },
  {
   "cell_type": "code",
   "execution_count": 21,
   "metadata": {
    "execution": {
     "iopub.execute_input": "2021-11-29T02:07:10.317005Z",
     "iopub.status.busy": "2021-11-29T02:07:10.316388Z",
     "iopub.status.idle": "2021-11-29T02:07:10.366078Z",
     "shell.execute_reply": "2021-11-29T02:07:10.365527Z",
     "shell.execute_reply.started": "2021-11-29T01:22:42.445329Z"
    },
    "papermill": {
     "duration": 0.091775,
     "end_time": "2021-11-29T02:07:10.366247",
     "exception": false,
     "start_time": "2021-11-29T02:07:10.274472",
     "status": "completed"
    },
    "tags": []
   },
   "outputs": [],
   "source": [
    "# We may drop Flag variables\n",
    "app_df_2=app_df.drop(labels=Flag, axis=1)\n"
   ]
  },
  {
   "cell_type": "code",
   "execution_count": 22,
   "metadata": {
    "execution": {
     "iopub.execute_input": "2021-11-29T02:07:10.468199Z",
     "iopub.status.busy": "2021-11-29T02:07:10.467169Z",
     "iopub.status.idle": "2021-11-29T02:07:12.948637Z",
     "shell.execute_reply": "2021-11-29T02:07:12.949122Z",
     "shell.execute_reply.started": "2021-11-29T01:22:42.505225Z"
    },
    "papermill": {
     "duration": 2.543826,
     "end_time": "2021-11-29T02:07:12.949299",
     "exception": false,
     "start_time": "2021-11-29T02:07:10.405473",
     "status": "completed"
    },
    "tags": []
   },
   "outputs": [
    {
     "data": {
      "text/plain": [
       "<AxesSubplot:title={'center':'Pearson Correlation Matrix'}>"
      ]
     },
     "execution_count": 22,
     "metadata": {},
     "output_type": "execute_result"
    },
    {
     "data": {
      "image/png": "[encoded data removed]",
      "text/plain": [
       "<Figure size 864x864 with 2 Axes>"
      ]
     },
     "metadata": {},
     "output_type": "display_data"
    }
   ],
   "source": [
    "sns.set(style=\"whitegrid\", font_scale=1)\n",
    "plt.figure(figsize=(12,12))\n",
    "plt.title('Pearson Correlation Matrix',fontsize=25)\n",
    "sns.heatmap(app_df_2.corr(),linewidths=0.25,vmax=0.7,square=True,cmap=\"GnBu\",linecolor='w',\n",
    "            annot=False, cbar_kws={\"shrink\": .7})"
   ]
  },
  {
   "cell_type": "markdown",
   "metadata": {
    "papermill": {
     "duration": 0.047698,
     "end_time": "2021-11-29T02:07:13.041335",
     "exception": false,
     "start_time": "2021-11-29T02:07:12.993637",
     "status": "completed"
    },
    "tags": []
   },
   "source": [
    "# high correlation between AMT_CREDIT, AMT_ANNUITY, AMT_GOODS_PRICE\n",
    "\n",
    "# high correlation between Default_record variables"
   ]
  },
  {
   "cell_type": "code",
   "execution_count": 23,
   "metadata": {
    "execution": {
     "iopub.execute_input": "2021-11-29T02:07:13.134759Z",
     "iopub.status.busy": "2021-11-29T02:07:13.133792Z",
     "iopub.status.idle": "2021-11-29T02:07:13.869271Z",
     "shell.execute_reply": "2021-11-29T02:07:13.868576Z",
     "shell.execute_reply.started": "2021-11-29T01:22:44.691746Z"
    },
    "papermill": {
     "duration": 0.784192,
     "end_time": "2021-11-29T02:07:13.869428",
     "exception": false,
     "start_time": "2021-11-29T02:07:13.085236",
     "status": "completed"
    },
    "tags": []
   },
   "outputs": [
    {
     "name": "stdout",
     "output_type": "stream",
     "text": [
      "1    307510\n",
      "0         1\n",
      "Name: FLAG_MOBIL, dtype: int64\n",
      "\n",
      "\n",
      "\n",
      "1    252125\n",
      "0     55386\n",
      "Name: FLAG_EMP_PHONE, dtype: int64\n",
      "\n",
      "\n",
      "\n",
      "0    246203\n",
      "1     61308\n",
      "Name: FLAG_WORK_PHONE, dtype: int64\n",
      "\n",
      "\n",
      "\n",
      "1    306937\n",
      "0       574\n",
      "Name: FLAG_CONT_MOBILE, dtype: int64\n",
      "\n",
      "\n",
      "\n",
      "0    221080\n",
      "1     86431\n",
      "Name: FLAG_PHONE, dtype: int64\n",
      "\n",
      "\n",
      "\n",
      "0    290069\n",
      "1     17442\n",
      "Name: FLAG_EMAIL, dtype: int64\n",
      "\n",
      "\n",
      "\n",
      "0    307498\n",
      "1        13\n",
      "Name: FLAG_DOCUMENT_2, dtype: int64\n",
      "\n",
      "\n",
      "\n",
      "1    218340\n",
      "0     89171\n",
      "Name: FLAG_DOCUMENT_3, dtype: int64\n",
      "\n",
      "\n",
      "\n",
      "0    307486\n",
      "1        25\n",
      "Name: FLAG_DOCUMENT_4, dtype: int64\n",
      "\n",
      "\n",
      "\n",
      "0    302863\n",
      "1      4648\n",
      "Name: FLAG_DOCUMENT_5, dtype: int64\n",
      "\n",
      "\n",
      "\n",
      "0    280433\n",
      "1     27078\n",
      "Name: FLAG_DOCUMENT_6, dtype: int64\n",
      "\n",
      "\n",
      "\n",
      "0    307452\n",
      "1        59\n",
      "Name: FLAG_DOCUMENT_7, dtype: int64\n",
      "\n",
      "\n",
      "\n",
      "0    282487\n",
      "1     25024\n",
      "Name: FLAG_DOCUMENT_8, dtype: int64\n",
      "\n",
      "\n",
      "\n",
      "0    306313\n",
      "1      1198\n",
      "Name: FLAG_DOCUMENT_9, dtype: int64\n",
      "\n",
      "\n",
      "\n",
      "0    307504\n",
      "1         7\n",
      "Name: FLAG_DOCUMENT_10, dtype: int64\n",
      "\n",
      "\n",
      "\n",
      "0    306308\n",
      "1      1203\n",
      "Name: FLAG_DOCUMENT_11, dtype: int64\n",
      "\n",
      "\n",
      "\n",
      "0    307509\n",
      "1         2\n",
      "Name: FLAG_DOCUMENT_12, dtype: int64\n",
      "\n",
      "\n",
      "\n",
      "0    306427\n",
      "1      1084\n",
      "Name: FLAG_DOCUMENT_13, dtype: int64\n",
      "\n",
      "\n",
      "\n",
      "0    306608\n",
      "1       903\n",
      "Name: FLAG_DOCUMENT_14, dtype: int64\n",
      "\n",
      "\n",
      "\n",
      "0    307139\n",
      "1       372\n",
      "Name: FLAG_DOCUMENT_15, dtype: int64\n",
      "\n",
      "\n",
      "\n",
      "0    304458\n",
      "1      3053\n",
      "Name: FLAG_DOCUMENT_16, dtype: int64\n",
      "\n",
      "\n",
      "\n",
      "0    307429\n",
      "1        82\n",
      "Name: FLAG_DOCUMENT_17, dtype: int64\n",
      "\n",
      "\n",
      "\n",
      "0    305011\n",
      "1      2500\n",
      "Name: FLAG_DOCUMENT_18, dtype: int64\n",
      "\n",
      "\n",
      "\n",
      "0    307328\n",
      "1       183\n",
      "Name: FLAG_DOCUMENT_19, dtype: int64\n",
      "\n",
      "\n",
      "\n",
      "0    307355\n",
      "1       156\n",
      "Name: FLAG_DOCUMENT_20, dtype: int64\n",
      "\n",
      "\n",
      "\n",
      "0    307408\n",
      "1       103\n",
      "Name: FLAG_DOCUMENT_21, dtype: int64\n",
      "\n",
      "\n",
      "\n"
     ]
    }
   ],
   "source": [
    "for i in range(app_df.loc[:,Flag].shape[1]):\n",
    "    print(app_df.loc[:,Flag].iloc[:,i].value_counts(dropna=False))\n",
    "    print(\"\\n\\n\")"
   ]
  },
  {
   "cell_type": "code",
   "execution_count": 24,
   "metadata": {
    "execution": {
     "iopub.execute_input": "2021-11-29T02:07:13.990389Z",
     "iopub.status.busy": "2021-11-29T02:07:13.989716Z",
     "iopub.status.idle": "2021-11-29T02:07:15.634100Z",
     "shell.execute_reply": "2021-11-29T02:07:15.634602Z",
     "shell.execute_reply.started": "2021-11-29T01:22:45.076646Z"
    },
    "papermill": {
     "duration": 1.717421,
     "end_time": "2021-11-29T02:07:15.634778",
     "exception": false,
     "start_time": "2021-11-29T02:07:13.917357",
     "status": "completed"
    },
    "tags": []
   },
   "outputs": [
    {
     "data": {
      "text/plain": [
       "<AxesSubplot:title={'center':'Pearson Correlation Matrix within Flag variable'}>"
      ]
     },
     "execution_count": 24,
     "metadata": {},
     "output_type": "execute_result"
    },
    {
     "data": {
      "image/png": "[encoded data removed]",
      "text/plain": [
       "<Figure size 864x864 with 2 Axes>"
      ]
     },
     "metadata": {},
     "output_type": "display_data"
    }
   ],
   "source": [
    "sns.set(style=\"whitegrid\", font_scale=1)\n",
    "plt.figure(figsize=(12,12))\n",
    "plt.title('Pearson Correlation Matrix within Flag variable',fontsize=25)\n",
    "sns.heatmap(app_df.loc[:,Flag].corr(),linewidths=0.25,vmax=0.7,square=True,cmap=\"GnBu\",linecolor='w',\n",
    "            annot=False, cbar_kws={\"shrink\": .7})"
   ]
  },
  {
   "cell_type": "markdown",
   "metadata": {
    "papermill": {
     "duration": 0.050348,
     "end_time": "2021-11-29T02:07:15.734063",
     "exception": false,
     "start_time": "2021-11-29T02:07:15.683715",
     "status": "completed"
    },
    "tags": []
   },
   "source": [
    "# 1.2 one-hot encoding\n",
    "# app_df=pd.get_dummies(app_df)"
   ]
  },
  {
   "cell_type": "markdown",
   "metadata": {
    "papermill": {
     "duration": 0.049673,
     "end_time": "2021-11-29T02:07:15.832152",
     "exception": false,
     "start_time": "2021-11-29T02:07:15.782479",
     "status": "completed"
    },
    "tags": []
   },
   "source": [
    "# 1.3 scaler\n",
    "from sklearn.preprocessing import MinMaxScaler\n",
    "\n",
    "X = X.drop(columns = ['TARGET'])\n",
    "\n",
    "saved_cols = app_df.columns\n",
    "\n",
    "scaler = MinMaxScaler(feature_range=(0,1))\n",
    "\n",
    "X = scaler.fit_transform(X)\n",
    "\n",
    "X = pd.DataFrame(X, columns = saved_cols)\n",
    "\n",
    "\n"
   ]
  },
  {
   "cell_type": "markdown",
   "metadata": {
    "execution": {
     "iopub.execute_input": "2021-11-28T01:23:32.716214Z",
     "iopub.status.busy": "2021-11-28T01:23:32.715868Z",
     "iopub.status.idle": "2021-11-28T01:23:32.722274Z",
     "shell.execute_reply": "2021-11-28T01:23:32.721228Z",
     "shell.execute_reply.started": "2021-11-28T01:23:32.71618Z"
    },
    "papermill": {
     "duration": 0.049266,
     "end_time": "2021-11-29T02:07:15.929404",
     "exception": false,
     "start_time": "2021-11-29T02:07:15.880138",
     "status": "completed"
    },
    "tags": []
   },
   "source": [
    "# 2. Multicollinearity\n",
    "Although highly correlated features (multicollinearity) aren't a problem for the machine learning models based on decision trees (as used here), these features decrease importances of each other and can make feature analysis more difficult. Therefore, I calculate feature correlations and remove the features with very high correlation coefficients before applying machine learning."
   ]
  },
  {
   "cell_type": "code",
   "execution_count": 25,
   "metadata": {
    "execution": {
     "iopub.execute_input": "2021-11-29T02:07:16.027977Z",
     "iopub.status.busy": "2021-11-29T02:07:16.027390Z",
     "iopub.status.idle": "2021-11-29T02:07:16.134515Z",
     "shell.execute_reply": "2021-11-29T02:07:16.133908Z",
     "shell.execute_reply.started": "2021-11-29T01:22:46.497507Z"
    },
    "papermill": {
     "duration": 0.15825,
     "end_time": "2021-11-29T02:07:16.134668",
     "exception": false,
     "start_time": "2021-11-29T02:07:15.976418",
     "status": "completed"
    },
    "tags": []
   },
   "outputs": [],
   "source": [
    "from statsmodels.stats.outliers_influence import variance_inflation_factor"
   ]
  },
  {
   "cell_type": "code",
   "execution_count": 26,
   "metadata": {
    "execution": {
     "iopub.execute_input": "2021-11-29T02:07:16.240274Z",
     "iopub.status.busy": "2021-11-29T02:07:16.239514Z",
     "iopub.status.idle": "2021-11-29T02:07:16.243208Z",
     "shell.execute_reply": "2021-11-29T02:07:16.242700Z",
     "shell.execute_reply.started": "2021-11-29T01:22:46.502286Z"
    },
    "papermill": {
     "duration": 0.058354,
     "end_time": "2021-11-29T02:07:16.243355",
     "exception": false,
     "start_time": "2021-11-29T02:07:16.185001",
     "status": "completed"
    },
    "tags": []
   },
   "outputs": [],
   "source": [
    "#column that doesn't contain object input\n",
    "value_column=[]\n",
    "for i in range(app_df.shape[1]):\n",
    "    if type(app_df.iloc[1,i])!=str:\n",
    "        value_column.append(i)"
   ]
  },
  {
   "cell_type": "code",
   "execution_count": 27,
   "metadata": {
    "execution": {
     "iopub.execute_input": "2021-11-29T02:07:16.377221Z",
     "iopub.status.busy": "2021-11-29T02:07:16.343709Z",
     "iopub.status.idle": "2021-11-29T02:07:16.531976Z",
     "shell.execute_reply": "2021-11-29T02:07:16.531480Z",
     "shell.execute_reply.started": "2021-11-29T01:22:46.523084Z"
    },
    "papermill": {
     "duration": 0.239123,
     "end_time": "2021-11-29T02:07:16.532136",
     "exception": false,
     "start_time": "2021-11-29T02:07:16.293013",
     "status": "completed"
    },
    "tags": []
   },
   "outputs": [],
   "source": [
    "# Create a dataframe that will contain the names of all the feature variables and their respective VIFs\n",
    "vif = pd.DataFrame()\n",
    "X=app_df.iloc[:,value_column].drop(labels=['TARGET'],axis=1)\n",
    "X=X.dropna()"
   ]
  },
  {
   "cell_type": "code",
   "execution_count": 28,
   "metadata": {
    "execution": {
     "iopub.execute_input": "2021-11-29T02:07:16.633662Z",
     "iopub.status.busy": "2021-11-29T02:07:16.632899Z",
     "iopub.status.idle": "2021-11-29T02:08:54.312983Z",
     "shell.execute_reply": "2021-11-29T02:08:54.313514Z",
     "shell.execute_reply.started": "2021-11-29T01:22:46.674385Z"
    },
    "papermill": {
     "duration": 97.73416,
     "end_time": "2021-11-29T02:08:54.313711",
     "exception": false,
     "start_time": "2021-11-29T02:07:16.579551",
     "status": "completed"
    },
    "tags": []
   },
   "outputs": [
    {
     "name": "stderr",
     "output_type": "stream",
     "text": [
      "C:\\Users\\Yash Sharma\\anaconda3\\lib\\site-packages\\statsmodels\\regression\\linear_model.py:1715: RuntimeWarning: invalid value encountered in double_scalars\n",
      "  return 1 - self.ssr/self.centered_tss\n"
     ]
    },
    {
     "data": {
      "text/html": [
       "<div>\n",
       "<style scoped>\n",
       "    .dataframe tbody tr th:only-of-type {\n",
       "        vertical-align: middle;\n",
       "    }\n",
       "\n",
       "    .dataframe tbody tr th {\n",
       "        vertical-align: top;\n",
       "    }\n",
       "\n",
       "    .dataframe thead th {\n",
       "        text-align: right;\n",
       "    }\n",
       "</style>\n",
       "<table border=\"1\" class=\"dataframe\">\n",
       "  <thead>\n",
       "    <tr style=\"text-align: right;\">\n",
       "      <th></th>\n",
       "      <th>Features</th>\n",
       "      <th>VIF</th>\n",
       "    </tr>\n",
       "  </thead>\n",
       "  <tbody>\n",
       "    <tr>\n",
       "      <th>10</th>\n",
       "      <td>FLAG_MOBIL</td>\n",
       "      <td>15887.14</td>\n",
       "    </tr>\n",
       "    <tr>\n",
       "      <th>11</th>\n",
       "      <td>FLAG_EMP_PHONE</td>\n",
       "      <td>2228.79</td>\n",
       "    </tr>\n",
       "    <tr>\n",
       "      <th>7</th>\n",
       "      <td>DAYS_EMPLOYED</td>\n",
       "      <td>2210.46</td>\n",
       "    </tr>\n",
       "    <tr>\n",
       "      <th>30</th>\n",
       "      <td>OBS_60_CNT_SOCIAL_CIRCLE</td>\n",
       "      <td>341.82</td>\n",
       "    </tr>\n",
       "    <tr>\n",
       "      <th>28</th>\n",
       "      <td>OBS_30_CNT_SOCIAL_CIRCLE</td>\n",
       "      <td>341.31</td>\n",
       "    </tr>\n",
       "    <tr>\n",
       "      <th>4</th>\n",
       "      <td>AMT_GOODS_PRICE</td>\n",
       "      <td>42.65</td>\n",
       "    </tr>\n",
       "    <tr>\n",
       "      <th>2</th>\n",
       "      <td>AMT_CREDIT</td>\n",
       "      <td>41.78</td>\n",
       "    </tr>\n",
       "    <tr>\n",
       "      <th>17</th>\n",
       "      <td>REGION_RATING_CLIENT</td>\n",
       "      <td>11.22</td>\n",
       "    </tr>\n",
       "    <tr>\n",
       "      <th>18</th>\n",
       "      <td>REGION_RATING_CLIENT_W_CITY</td>\n",
       "      <td>11.06</td>\n",
       "    </tr>\n",
       "    <tr>\n",
       "      <th>21</th>\n",
       "      <td>REG_REGION_NOT_WORK_REGION</td>\n",
       "      <td>9.20</td>\n",
       "    </tr>\n",
       "    <tr>\n",
       "      <th>24</th>\n",
       "      <td>REG_CITY_NOT_WORK_CITY</td>\n",
       "      <td>7.67</td>\n",
       "    </tr>\n",
       "    <tr>\n",
       "      <th>22</th>\n",
       "      <td>LIVE_REGION_NOT_WORK_REGION</td>\n",
       "      <td>7.53</td>\n",
       "    </tr>\n",
       "    <tr>\n",
       "      <th>25</th>\n",
       "      <td>LIVE_CITY_NOT_WORK_CITY</td>\n",
       "      <td>6.20</td>\n",
       "    </tr>\n",
       "    <tr>\n",
       "      <th>0</th>\n",
       "      <td>CNT_CHILDREN</td>\n",
       "      <td>4.75</td>\n",
       "    </tr>\n",
       "    <tr>\n",
       "      <th>16</th>\n",
       "      <td>CNT_FAM_MEMBERS</td>\n",
       "      <td>4.62</td>\n",
       "    </tr>\n",
       "    <tr>\n",
       "      <th>29</th>\n",
       "      <td>DEF_30_CNT_SOCIAL_CIRCLE</td>\n",
       "      <td>4.05</td>\n",
       "    </tr>\n",
       "    <tr>\n",
       "      <th>31</th>\n",
       "      <td>DEF_60_CNT_SOCIAL_CIRCLE</td>\n",
       "      <td>3.85</td>\n",
       "    </tr>\n",
       "    <tr>\n",
       "      <th>34</th>\n",
       "      <td>FLAG_DOCUMENT_3</td>\n",
       "      <td>2.82</td>\n",
       "    </tr>\n",
       "    <tr>\n",
       "      <th>3</th>\n",
       "      <td>AMT_ANNUITY</td>\n",
       "      <td>2.76</td>\n",
       "    </tr>\n",
       "    <tr>\n",
       "      <th>37</th>\n",
       "      <td>FLAG_DOCUMENT_6</td>\n",
       "      <td>2.47</td>\n",
       "    </tr>\n",
       "    <tr>\n",
       "      <th>23</th>\n",
       "      <td>REG_CITY_NOT_LIVE_CITY</td>\n",
       "      <td>2.42</td>\n",
       "    </tr>\n",
       "    <tr>\n",
       "      <th>20</th>\n",
       "      <td>REG_REGION_NOT_LIVE_REGION</td>\n",
       "      <td>2.40</td>\n",
       "    </tr>\n",
       "    <tr>\n",
       "      <th>6</th>\n",
       "      <td>DAYS_BIRTH</td>\n",
       "      <td>2.12</td>\n",
       "    </tr>\n",
       "    <tr>\n",
       "      <th>39</th>\n",
       "      <td>FLAG_DOCUMENT_8</td>\n",
       "      <td>1.91</td>\n",
       "    </tr>\n",
       "    <tr>\n",
       "      <th>5</th>\n",
       "      <td>REGION_POPULATION_RELATIVE</td>\n",
       "      <td>1.43</td>\n",
       "    </tr>\n",
       "    <tr>\n",
       "      <th>12</th>\n",
       "      <td>FLAG_WORK_PHONE</td>\n",
       "      <td>1.24</td>\n",
       "    </tr>\n",
       "    <tr>\n",
       "      <th>26</th>\n",
       "      <td>EXT_SOURCE_2</td>\n",
       "      <td>1.18</td>\n",
       "    </tr>\n",
       "    <tr>\n",
       "      <th>36</th>\n",
       "      <td>FLAG_DOCUMENT_5</td>\n",
       "      <td>1.17</td>\n",
       "    </tr>\n",
       "    <tr>\n",
       "      <th>14</th>\n",
       "      <td>FLAG_PHONE</td>\n",
       "      <td>1.15</td>\n",
       "    </tr>\n",
       "    <tr>\n",
       "      <th>8</th>\n",
       "      <td>DAYS_REGISTRATION</td>\n",
       "      <td>1.15</td>\n",
       "    </tr>\n",
       "    <tr>\n",
       "      <th>9</th>\n",
       "      <td>DAYS_ID_PUBLISH</td>\n",
       "      <td>1.13</td>\n",
       "    </tr>\n",
       "    <tr>\n",
       "      <th>19</th>\n",
       "      <td>HOUR_APPR_PROCESS_START</td>\n",
       "      <td>1.11</td>\n",
       "    </tr>\n",
       "    <tr>\n",
       "      <th>54</th>\n",
       "      <td>AMT_REQ_CREDIT_BUREAU_DAY</td>\n",
       "      <td>1.11</td>\n",
       "    </tr>\n",
       "    <tr>\n",
       "      <th>32</th>\n",
       "      <td>DAYS_LAST_PHONE_CHANGE</td>\n",
       "      <td>1.10</td>\n",
       "    </tr>\n",
       "    <tr>\n",
       "      <th>27</th>\n",
       "      <td>EXT_SOURCE_3</td>\n",
       "      <td>1.09</td>\n",
       "    </tr>\n",
       "    <tr>\n",
       "      <th>53</th>\n",
       "      <td>AMT_REQ_CREDIT_BUREAU_HOUR</td>\n",
       "      <td>1.06</td>\n",
       "    </tr>\n",
       "    <tr>\n",
       "      <th>58</th>\n",
       "      <td>AMT_REQ_CREDIT_BUREAU_YEAR</td>\n",
       "      <td>1.06</td>\n",
       "    </tr>\n",
       "    <tr>\n",
       "      <th>42</th>\n",
       "      <td>FLAG_DOCUMENT_11</td>\n",
       "      <td>1.06</td>\n",
       "    </tr>\n",
       "    <tr>\n",
       "      <th>55</th>\n",
       "      <td>AMT_REQ_CREDIT_BUREAU_WEEK</td>\n",
       "      <td>1.06</td>\n",
       "    </tr>\n",
       "    <tr>\n",
       "      <th>40</th>\n",
       "      <td>FLAG_DOCUMENT_9</td>\n",
       "      <td>1.05</td>\n",
       "    </tr>\n",
       "    <tr>\n",
       "      <th>1</th>\n",
       "      <td>AMT_INCOME_TOTAL</td>\n",
       "      <td>1.05</td>\n",
       "    </tr>\n",
       "    <tr>\n",
       "      <th>47</th>\n",
       "      <td>FLAG_DOCUMENT_16</td>\n",
       "      <td>1.03</td>\n",
       "    </tr>\n",
       "    <tr>\n",
       "      <th>15</th>\n",
       "      <td>FLAG_EMAIL</td>\n",
       "      <td>1.03</td>\n",
       "    </tr>\n",
       "    <tr>\n",
       "      <th>44</th>\n",
       "      <td>FLAG_DOCUMENT_13</td>\n",
       "      <td>1.02</td>\n",
       "    </tr>\n",
       "    <tr>\n",
       "      <th>45</th>\n",
       "      <td>FLAG_DOCUMENT_14</td>\n",
       "      <td>1.02</td>\n",
       "    </tr>\n",
       "    <tr>\n",
       "      <th>49</th>\n",
       "      <td>FLAG_DOCUMENT_18</td>\n",
       "      <td>1.02</td>\n",
       "    </tr>\n",
       "    <tr>\n",
       "      <th>51</th>\n",
       "      <td>FLAG_DOCUMENT_20</td>\n",
       "      <td>1.02</td>\n",
       "    </tr>\n",
       "    <tr>\n",
       "      <th>13</th>\n",
       "      <td>FLAG_CONT_MOBILE</td>\n",
       "      <td>1.02</td>\n",
       "    </tr>\n",
       "    <tr>\n",
       "      <th>56</th>\n",
       "      <td>AMT_REQ_CREDIT_BUREAU_MON</td>\n",
       "      <td>1.02</td>\n",
       "    </tr>\n",
       "    <tr>\n",
       "      <th>57</th>\n",
       "      <td>AMT_REQ_CREDIT_BUREAU_QRT</td>\n",
       "      <td>1.01</td>\n",
       "    </tr>\n",
       "    <tr>\n",
       "      <th>46</th>\n",
       "      <td>FLAG_DOCUMENT_15</td>\n",
       "      <td>1.00</td>\n",
       "    </tr>\n",
       "    <tr>\n",
       "      <th>43</th>\n",
       "      <td>FLAG_DOCUMENT_12</td>\n",
       "      <td>1.00</td>\n",
       "    </tr>\n",
       "    <tr>\n",
       "      <th>48</th>\n",
       "      <td>FLAG_DOCUMENT_17</td>\n",
       "      <td>1.00</td>\n",
       "    </tr>\n",
       "    <tr>\n",
       "      <th>50</th>\n",
       "      <td>FLAG_DOCUMENT_19</td>\n",
       "      <td>1.00</td>\n",
       "    </tr>\n",
       "    <tr>\n",
       "      <th>52</th>\n",
       "      <td>FLAG_DOCUMENT_21</td>\n",
       "      <td>1.00</td>\n",
       "    </tr>\n",
       "    <tr>\n",
       "      <th>41</th>\n",
       "      <td>FLAG_DOCUMENT_10</td>\n",
       "      <td>1.00</td>\n",
       "    </tr>\n",
       "    <tr>\n",
       "      <th>35</th>\n",
       "      <td>FLAG_DOCUMENT_4</td>\n",
       "      <td>1.00</td>\n",
       "    </tr>\n",
       "    <tr>\n",
       "      <th>38</th>\n",
       "      <td>FLAG_DOCUMENT_7</td>\n",
       "      <td>1.00</td>\n",
       "    </tr>\n",
       "    <tr>\n",
       "      <th>33</th>\n",
       "      <td>FLAG_DOCUMENT_2</td>\n",
       "      <td>NaN</td>\n",
       "    </tr>\n",
       "  </tbody>\n",
       "</table>\n",
       "</div>"
      ],
      "text/plain": [
       "                       Features       VIF\n",
       "10                   FLAG_MOBIL  15887.14\n",
       "11               FLAG_EMP_PHONE   2228.79\n",
       "7                 DAYS_EMPLOYED   2210.46\n",
       "30     OBS_60_CNT_SOCIAL_CIRCLE    341.82\n",
       "28     OBS_30_CNT_SOCIAL_CIRCLE    341.31\n",
       "4               AMT_GOODS_PRICE     42.65\n",
       "2                    AMT_CREDIT     41.78\n",
       "17         REGION_RATING_CLIENT     11.22\n",
       "18  REGION_RATING_CLIENT_W_CITY     11.06\n",
       "21   REG_REGION_NOT_WORK_REGION      9.20\n",
       "24       REG_CITY_NOT_WORK_CITY      7.67\n",
       "22  LIVE_REGION_NOT_WORK_REGION      7.53\n",
       "25      LIVE_CITY_NOT_WORK_CITY      6.20\n",
       "0                  CNT_CHILDREN      4.75\n",
       "16              CNT_FAM_MEMBERS      4.62\n",
       "29     DEF_30_CNT_SOCIAL_CIRCLE      4.05\n",
       "31     DEF_60_CNT_SOCIAL_CIRCLE      3.85\n",
       "34              FLAG_DOCUMENT_3      2.82\n",
       "3                   AMT_ANNUITY      2.76\n",
       "37              FLAG_DOCUMENT_6      2.47\n",
       "23       REG_CITY_NOT_LIVE_CITY      2.42\n",
       "20   REG_REGION_NOT_LIVE_REGION      2.40\n",
       "6                    DAYS_BIRTH      2.12\n",
       "39              FLAG_DOCUMENT_8      1.91\n",
       "5    REGION_POPULATION_RELATIVE      1.43\n",
       "12              FLAG_WORK_PHONE      1.24\n",
       "26                 EXT_SOURCE_2      1.18\n",
       "36              FLAG_DOCUMENT_5      1.17\n",
       "14                   FLAG_PHONE      1.15\n",
       "8             DAYS_REGISTRATION      1.15\n",
       "9               DAYS_ID_PUBLISH      1.13\n",
       "19      HOUR_APPR_PROCESS_START      1.11\n",
       "54    AMT_REQ_CREDIT_BUREAU_DAY      1.11\n",
       "32       DAYS_LAST_PHONE_CHANGE      1.10\n",
       "27                 EXT_SOURCE_3      1.09\n",
       "53   AMT_REQ_CREDIT_BUREAU_HOUR      1.06\n",
       "58   AMT_REQ_CREDIT_BUREAU_YEAR      1.06\n",
       "42             FLAG_DOCUMENT_11      1.06\n",
       "55   AMT_REQ_CREDIT_BUREAU_WEEK      1.06\n",
       "40              FLAG_DOCUMENT_9      1.05\n",
       "1              AMT_INCOME_TOTAL      1.05\n",
       "47             FLAG_DOCUMENT_16      1.03\n",
       "15                   FLAG_EMAIL      1.03\n",
       "44             FLAG_DOCUMENT_13      1.02\n",
       "45             FLAG_DOCUMENT_14      1.02\n",
       "49             FLAG_DOCUMENT_18      1.02\n",
       "51             FLAG_DOCUMENT_20      1.02\n",
       "13             FLAG_CONT_MOBILE      1.02\n",
       "56    AMT_REQ_CREDIT_BUREAU_MON      1.02\n",
       "57    AMT_REQ_CREDIT_BUREAU_QRT      1.01\n",
       "46             FLAG_DOCUMENT_15      1.00\n",
       "43             FLAG_DOCUMENT_12      1.00\n",
       "48             FLAG_DOCUMENT_17      1.00\n",
       "50             FLAG_DOCUMENT_19      1.00\n",
       "52             FLAG_DOCUMENT_21      1.00\n",
       "41             FLAG_DOCUMENT_10      1.00\n",
       "35              FLAG_DOCUMENT_4      1.00\n",
       "38              FLAG_DOCUMENT_7      1.00\n",
       "33              FLAG_DOCUMENT_2       NaN"
      ]
     },
     "execution_count": 28,
     "metadata": {},
     "output_type": "execute_result"
    }
   ],
   "source": [
    "vif['Features'] = X.columns\n",
    "vif['VIF'] = [variance_inflation_factor(X.values, i) for i in range(X.shape[1])]\n",
    "vif['VIF'] = round(vif['VIF'], 2)\n",
    "vif = vif.sort_values(by = \"VIF\", ascending = False)\n",
    "vif"
   ]
  },
  {
   "cell_type": "markdown",
   "metadata": {
    "papermill": {
     "duration": 0.048825,
     "end_time": "2021-11-29T02:08:54.418041",
     "exception": false,
     "start_time": "2021-11-29T02:08:54.369216",
     "status": "completed"
    },
    "tags": []
   },
   "source": [
    "# Note : there is a threshold for VIF in performing linear models!"
   ]
  },
  {
   "cell_type": "markdown",
   "metadata": {
    "papermill": {
     "duration": 0.05011,
     "end_time": "2021-11-29T02:08:54.517445",
     "exception": false,
     "start_time": "2021-11-29T02:08:54.467335",
     "status": "completed"
    },
    "tags": []
   },
   "source": [
    "# VIF Doesn't work for whole dataset(with object variables) after one-hot.\n",
    "# divde by 0 error"
   ]
  },
  {
   "cell_type": "code",
   "execution_count": 29,
   "metadata": {
    "execution": {
     "iopub.execute_input": "2021-11-29T02:08:54.630927Z",
     "iopub.status.busy": "2021-11-29T02:08:54.629530Z",
     "iopub.status.idle": "2021-11-29T02:08:57.835519Z",
     "shell.execute_reply": "2021-11-29T02:08:57.834938Z",
     "shell.execute_reply.started": "2021-11-29T01:23:45.438658Z"
    },
    "papermill": {
     "duration": 3.266058,
     "end_time": "2021-11-29T02:08:57.835676",
     "exception": false,
     "start_time": "2021-11-29T02:08:54.569618",
     "status": "completed"
    },
    "tags": []
   },
   "outputs": [
    {
     "data": {
      "text/plain": [
       "AMT_REQ_CREDIT_BUREAU_YEAR   AMT_REQ_CREDIT_BUREAU_YEAR     1.000000\n",
       "OBS_60_CNT_SOCIAL_CIRCLE     OBS_30_CNT_SOCIAL_CIRCLE       0.998490\n",
       "AMT_CREDIT                   AMT_GOODS_PRICE                0.986968\n",
       "REGION_RATING_CLIENT_W_CITY  REGION_RATING_CLIENT           0.950842\n",
       "CNT_CHILDREN                 CNT_FAM_MEMBERS                0.879161\n",
       "REG_REGION_NOT_WORK_REGION   LIVE_REGION_NOT_WORK_REGION    0.860627\n",
       "DEF_60_CNT_SOCIAL_CIRCLE     DEF_30_CNT_SOCIAL_CIRCLE       0.860517\n",
       "REG_CITY_NOT_WORK_CITY       LIVE_CITY_NOT_WORK_CITY        0.825575\n",
       "AMT_ANNUITY                  AMT_GOODS_PRICE                0.775109\n",
       "AMT_CREDIT                   AMT_ANNUITY                    0.770138\n",
       "dtype: float64"
      ]
     },
     "execution_count": 29,
     "metadata": {},
     "output_type": "execute_result"
    }
   ],
   "source": [
    "c=app_df.corr().unstack()\n",
    "c.sort_values(ascending=False).drop_duplicates().head(10)"
   ]
  },
  {
   "cell_type": "code",
   "execution_count": 30,
   "metadata": {
    "execution": {
     "iopub.execute_input": "2021-11-29T02:08:57.949442Z",
     "iopub.status.busy": "2021-11-29T02:08:57.948774Z",
     "iopub.status.idle": "2021-11-29T02:08:57.957249Z",
     "shell.execute_reply": "2021-11-29T02:08:57.956629Z",
     "shell.execute_reply.started": "2021-11-29T01:23:47.605472Z"
    },
    "papermill": {
     "duration": 0.068333,
     "end_time": "2021-11-29T02:08:57.957394",
     "exception": false,
     "start_time": "2021-11-29T02:08:57.889061",
     "status": "completed"
    },
    "tags": []
   },
   "outputs": [
    {
     "data": {
      "text/plain": [
       "EXT_SOURCE_2                REGION_RATING_CLIENT          -0.292895\n",
       "DAYS_BIRTH                  FLAG_DOCUMENT_6               -0.407160\n",
       "FLAG_DOCUMENT_3             FLAG_DOCUMENT_8               -0.465730\n",
       "FLAG_DOCUMENT_6             FLAG_DOCUMENT_3               -0.486238\n",
       "REGION_POPULATION_RELATIVE  REGION_RATING_CLIENT_W_CITY   -0.531535\n",
       "REGION_RATING_CLIENT        REGION_POPULATION_RELATIVE    -0.532877\n",
       "FLAG_EMP_PHONE              FLAG_DOCUMENT_6               -0.597732\n",
       "DAYS_BIRTH                  DAYS_EMPLOYED                 -0.615864\n",
       "DAYS_EMPLOYED               FLAG_EMP_PHONE                -0.999755\n",
       "FLAG_MOBIL                  EXT_SOURCE_2                        NaN\n",
       "dtype: float64"
      ]
     },
     "execution_count": 30,
     "metadata": {},
     "output_type": "execute_result"
    }
   ],
   "source": [
    "c.sort_values(ascending=False).drop_duplicates().tail(10)"
   ]
  },
  {
   "cell_type": "markdown",
   "metadata": {
    "execution": {
     "iopub.execute_input": "2021-11-28T16:37:24.113321Z",
     "iopub.status.busy": "2021-11-28T16:37:24.113022Z",
     "iopub.status.idle": "2021-11-28T16:37:24.117956Z",
     "shell.execute_reply": "2021-11-28T16:37:24.117015Z",
     "shell.execute_reply.started": "2021-11-28T16:37:24.113291Z"
    },
    "papermill": {
     "duration": 0.055539,
     "end_time": "2021-11-29T02:08:58.072164",
     "exception": false,
     "start_time": "2021-11-29T02:08:58.016625",
     "status": "completed"
    },
    "tags": []
   },
   "source": [
    "# Selecting 10 best features"
   ]
  },
  {
   "cell_type": "code",
   "execution_count": 31,
   "metadata": {
    "execution": {
     "iopub.execute_input": "2021-11-29T02:08:58.191094Z",
     "iopub.status.busy": "2021-11-29T02:08:58.190323Z",
     "iopub.status.idle": "2021-11-29T02:08:58.383465Z",
     "shell.execute_reply": "2021-11-29T02:08:58.382936Z",
     "shell.execute_reply.started": "2021-11-29T01:23:47.617569Z"
    },
    "papermill": {
     "duration": 0.254168,
     "end_time": "2021-11-29T02:08:58.383613",
     "exception": false,
     "start_time": "2021-11-29T02:08:58.129445",
     "status": "completed"
    },
    "tags": []
   },
   "outputs": [],
   "source": [
    "from sklearn.model_selection import train_test_split"
   ]
  },
  {
   "cell_type": "code",
   "execution_count": 32,
   "metadata": {
    "execution": {
     "iopub.execute_input": "2021-11-29T02:08:58.489678Z",
     "iopub.status.busy": "2021-11-29T02:08:58.489003Z",
     "iopub.status.idle": "2021-11-29T02:08:59.093505Z",
     "shell.execute_reply": "2021-11-29T02:08:59.092334Z",
     "shell.execute_reply.started": "2021-11-29T01:23:47.628690Z"
    },
    "papermill": {
     "duration": 0.661016,
     "end_time": "2021-11-29T02:08:59.093709",
     "exception": false,
     "start_time": "2021-11-29T02:08:58.432693",
     "status": "completed"
    },
    "tags": []
   },
   "outputs": [],
   "source": [
    "temp=app_df.dropna()\n",
    "X = temp.iloc[:,value_column].drop(['TARGET'],axis = 1)\n",
    "target = temp['TARGET']\n",
    "X_train, X_test, Y_train, Y_test = train_test_split(X, target, test_size= 0.3, random_state = 0,stratify=target)"
   ]
  },
  {
   "cell_type": "code",
   "execution_count": 33,
   "metadata": {
    "execution": {
     "iopub.execute_input": "2021-11-29T02:08:59.213727Z",
     "iopub.status.busy": "2021-11-29T02:08:59.212793Z",
     "iopub.status.idle": "2021-11-29T02:08:59.217240Z",
     "shell.execute_reply": "2021-11-29T02:08:59.216216Z",
     "shell.execute_reply.started": "2021-11-29T01:23:48.111039Z"
    },
    "papermill": {
     "duration": 0.06996,
     "end_time": "2021-11-29T02:08:59.217491",
     "exception": false,
     "start_time": "2021-11-29T02:08:59.147531",
     "status": "completed"
    },
    "tags": []
   },
   "outputs": [],
   "source": [
    "# X = X.interpolate(method ='linear', limit_direction ='forward')\n",
    "# interpolate is for missing data "
   ]
  },
  {
   "cell_type": "code",
   "execution_count": null,
   "metadata": {
    "execution": {
     "iopub.execute_input": "2021-11-29T02:08:59.335230Z",
     "iopub.status.busy": "2021-11-29T02:08:59.334476Z",
     "iopub.status.idle": "2021-11-29T02:12:39.920382Z",
     "shell.execute_reply": "2021-11-29T02:12:39.920925Z",
     "shell.execute_reply.started": "2021-11-29T01:23:48.115214Z"
    },
    "papermill": {
     "duration": 220.64658,
     "end_time": "2021-11-29T02:12:39.921163",
     "exception": false,
     "start_time": "2021-11-29T02:08:59.274583",
     "status": "completed"
    },
    "tags": []
   },
   "outputs": [],
   "source": [
    "from sklearn.feature_selection import SelectKBest,mutual_info_classif\n",
    "bestfeatures = SelectKBest(score_func=mutual_info_classif, k=10)\n",
    "fit = bestfeatures.fit(X,target,)\n",
    "dfscores = pd.DataFrame(fit.scores_)\n",
    "dfcolumns = pd.DataFrame(X.columns) \n",
    "featureScores = pd.concat([dfcolumns,dfscores],axis=1)\n",
    "featureScores.columns = ['Feature','Score'] \n",
    "print(featureScores.nlargest(10,'Score'))  "
   ]
  },
  {
   "cell_type": "markdown",
   "metadata": {
    "papermill": {
     "duration": 0.051246,
     "end_time": "2021-11-29T02:12:40.022747",
     "exception": false,
     "start_time": "2021-11-29T02:12:39.971501",
     "status": "completed"
    },
    "tags": []
   },
   "source": [
    "# Note: You may use one-hot for object variable\n",
    "just search one-hot in kaggle\n",
    "# Note: cross-validation\n",
    "# Note: Some models need Normalizing / scaling the data, others don't"
   ]
  },
  {
   "cell_type": "markdown",
   "metadata": {
    "execution": {
     "iopub.execute_input": "2021-11-28T16:38:57.858136Z",
     "iopub.status.busy": "2021-11-28T16:38:57.857818Z",
     "iopub.status.idle": "2021-11-28T16:38:57.862275Z",
     "shell.execute_reply": "2021-11-28T16:38:57.861411Z",
     "shell.execute_reply.started": "2021-11-28T16:38:57.8581Z"
    },
    "papermill": {
     "duration": 0.04848,
     "end_time": "2021-11-29T02:12:40.120209",
     "exception": false,
     "start_time": "2021-11-29T02:12:40.071729",
     "status": "completed"
    },
    "tags": []
   },
   "source": [
    "# Data Imbalance-Over Sampling/ Under Sampling"
   ]
  },
  {
   "cell_type": "markdown",
   "metadata": {
    "execution": {
     "iopub.execute_input": "2021-11-28T16:39:44.746746Z",
     "iopub.status.busy": "2021-11-28T16:39:44.746432Z",
     "iopub.status.idle": "2021-11-28T16:39:44.757558Z",
     "shell.execute_reply": "2021-11-28T16:39:44.756624Z",
     "shell.execute_reply.started": "2021-11-28T16:39:44.746712Z"
    },
    "papermill": {
     "duration": 0.05028,
     "end_time": "2021-11-29T02:12:40.220354",
     "exception": false,
     "start_time": "2021-11-29T02:12:40.170074",
     "status": "completed"
    },
    "tags": []
   },
   "source": [
    "<a id = \"Imbalance\"></a>\n",
    "<div align='left'><font size=\"5\" color=\"#A52A2A\"> Data Imbalance-Over Sampling</font></div>\n",
    "<hr>\n",
    "\n",
    "[Go back to the Table of Contents](#table_of_contents)  \n",
    "<hr>\n",
    "\n",
    "<div align='left'><font size=\"3\" color=\"#000000\"> One of the common issues found in datasets that are used for classification is imbalanced classes issue. Imbalanced data typically refers to a classification problem where the number of observations per class is not equally distributed. It usually reflects an unequal distribution of classes within a dataset.</font></div>   \n",
    "> <img style=\"float: centre;\" src=\"https://miro.medium.com/max/364/1*QoW_njAnS3D0QWve7NNB8w.png\" width=\"350px\"/>\n",
    "<div align='left'><font size=\"3\" color=\"#000000\"> If there are two classes, then balanced data would mean 50% points for each of the class.In our case 50:1 ratio between the fraud and non-fraud classes which is highly imbalance. There are 3 major techniques are there to eliminate the imbalance problem. \n",
    "</font></div>  \n",
    "<hr>\n",
    "<div align='left'><font size=\"3\" color=\"#000000\">1.Random Over Sampling</font></div>   \n",
    "<div align='left'><font size=\"3\" color=\"#000000\"> 2.Random Under Sampling</font></div>   \n",
    "<div align='left'><font size=\"3\" color=\"#000000\">3.SMOTE(Synthetic Minority Over-sampling Technique).</font></div>   \n",
    "<hr>\n",
    "<div align='left'><font size=\"3\" color=\"#000000\"> Since under sampling may discard the useful information which could be important for building good classifiers, we choose random over sampling and SMOTE (Synthetic Minority Oversampling Technique). Random over sampling increases the number of instances in the minority class by randomly replicating them in order to present a higher representation of the minority class in the sample. Implementing Random over sampling on this  dataset helps to the balance the labels (more no fraud than fraud transactions).</font></div> \n"
   ]
  },
  {
   "cell_type": "markdown",
   "metadata": {
    "papermill": {
     "duration": 0.051086,
     "end_time": "2021-11-29T02:12:40.321835",
     "exception": false,
     "start_time": "2021-11-29T02:12:40.270749",
     "status": "completed"
    },
    "tags": []
   },
   "source": []
  },
  {
   "cell_type": "code",
   "execution_count": null,
   "metadata": {
    "execution": {
     "iopub.execute_input": "2021-11-29T02:12:40.424046Z",
     "iopub.status.busy": "2021-11-29T02:12:40.423422Z",
     "iopub.status.idle": "2021-11-29T02:12:40.588512Z",
     "shell.execute_reply": "2021-11-29T02:12:40.587980Z",
     "shell.execute_reply.started": "2021-11-29T01:27:15.545786Z"
    },
    "papermill": {
     "duration": 0.217869,
     "end_time": "2021-11-29T02:12:40.588654",
     "exception": false,
     "start_time": "2021-11-29T02:12:40.370785",
     "status": "completed"
    },
    "tags": []
   },
   "outputs": [],
   "source": [
    "from collections import Counter\n",
    "from imblearn.over_sampling import SMOTE"
   ]
  },
  {
   "cell_type": "markdown",
   "metadata": {
    "papermill": {
     "duration": 0.049517,
     "end_time": "2021-11-29T02:12:40.687992",
     "exception": false,
     "start_time": "2021-11-29T02:12:40.638475",
     "status": "completed"
    },
    "tags": []
   },
   "source": [
    "<div align='left'><font size=\"3\" color=\"#000000\"> SMOTE is a technique that generates new observations by interpolating between observations in the original dataset.Implementing SMOTE on our imbalanced dataset helped us with the imbalance of our labels (more no fraud than fraud transactions).</font></div> "
   ]
  },
  {
   "cell_type": "code",
   "execution_count": null,
   "metadata": {
    "execution": {
     "iopub.execute_input": "2021-11-29T02:12:40.796722Z",
     "iopub.status.busy": "2021-11-29T02:12:40.796064Z",
     "iopub.status.idle": "2021-11-29T02:12:42.782642Z",
     "shell.execute_reply": "2021-11-29T02:12:42.783089Z",
     "shell.execute_reply.started": "2021-11-29T01:27:15.551527Z"
    },
    "papermill": {
     "duration": 2.042592,
     "end_time": "2021-11-29T02:12:42.783279",
     "exception": false,
     "start_time": "2021-11-29T02:12:40.740687",
     "status": "completed"
    },
    "tags": []
   },
   "outputs": [],
   "source": [
    "print('before SMOTE:',Counter(Y_train))\n",
    "sm = SMOTE(sampling_strategy='minority')\n",
    "X_train2, Y_train2 = sm.fit_resample(X_train, Y_train)\n",
    "print('After SMOTE:',Counter(Y_train2))"
   ]
  },
  {
   "cell_type": "code",
   "execution_count": null,
   "metadata": {
    "execution": {
     "iopub.execute_input": "2021-11-29T02:12:42.891403Z",
     "iopub.status.busy": "2021-11-29T02:12:42.890091Z",
     "iopub.status.idle": "2021-11-29T02:12:43.330310Z",
     "shell.execute_reply": "2021-11-29T02:12:43.329771Z",
     "shell.execute_reply.started": "2021-11-29T01:27:16.812102Z"
    },
    "papermill": {
     "duration": 0.496561,
     "end_time": "2021-11-29T02:12:43.330464",
     "exception": false,
     "start_time": "2021-11-29T02:12:42.833903",
     "status": "completed"
    },
    "tags": []
   },
   "outputs": [],
   "source": [
    "print(Counter(target))\n",
    "fig, (ax1, ax2) = plt.subplots(1, 2,figsize=(10,4.5))\n",
    "fig.subplots_adjust(bottom=0.10, left=0.10, top = 0.900, right=1.00)\n",
    "fig.suptitle(' Target Class Before and After SMOTE', fontsize = 20)\n",
    "sns.set_palette(\"bright\")\n",
    "sns.countplot(Y_train, ax=ax1)\n",
    "ax1.margins(0.1)\n",
    "ax1.set_facecolor(\"#e1ddbf\")\n",
    "for p in ax1.patches:\n",
    "        ax1.annotate('{:.1f}'.format(p.get_height()), (p.get_x()+0.1, p.get_height()+50))\n",
    "sns.set_palette(\"bright\")\n",
    "sns.countplot(Y_train2, ax=ax2)\n",
    "ax2.margins(0.1)\n",
    "ax2.set_facecolor(\"#e1ddbf\")\n",
    "for p in ax2.patches:\n",
    "        ax2.annotate('{:.1f}'.format(p.get_height()), (p.get_x()+0.1, p.get_height()+50))\n",
    "sns.set_style('dark')"
   ]
  },
  {
   "cell_type": "markdown",
   "metadata": {
    "papermill": {
     "duration": 0.052297,
     "end_time": "2021-11-29T02:12:43.434885",
     "exception": false,
     "start_time": "2021-11-29T02:12:43.382588",
     "status": "completed"
    },
    "tags": []
   },
   "source": [
    "<div align='left'><font size=\"3\" color=\"#000000\">\n",
    "Random oversampling just increases the size of the training data set through repetition of the original examples. It does not cause any increase in the variety of training examples.\n",
    "\n",
    "Oversampling using SMOTE not only increases the size of the training data set, it also increases the variety.\n",
    "\n",
    "SMOTE creates new (artificial) training examples based on the original training examples. For instance, if it sees two examples (of the same class) near each other, it creates a third artificial one, bang in the middle of the original two.\n",
    "\n",
    "SMOTE, when done right, is preferable over plain old random oversampling. One, however, has to be careful about the newly created examples and must make sure that they are ‘legal’. For example, for an input for which legal values are a table and chair, there is no legal in-between value. This, off course, does not apply to, for instance, an input representing the weight of an item.\n",
    "    </font></div> "
   ]
  },
  {
   "cell_type": "markdown",
   "metadata": {
    "papermill": {
     "duration": 0.053523,
     "end_time": "2021-11-29T02:12:43.539837",
     "exception": false,
     "start_time": "2021-11-29T02:12:43.486314",
     "status": "completed"
    },
    "tags": []
   },
   "source": []
  },
  {
   "cell_type": "markdown",
   "metadata": {
    "papermill": {
     "duration": 0.055181,
     "end_time": "2021-11-29T02:12:43.647640",
     "exception": false,
     "start_time": "2021-11-29T02:12:43.592459",
     "status": "completed"
    },
    "tags": []
   },
   "source": [
    "# roc_auc_score!"
   ]
  },
  {
   "cell_type": "markdown",
   "metadata": {
    "papermill": {
     "duration": 0.051763,
     "end_time": "2021-11-29T02:12:43.754187",
     "exception": false,
     "start_time": "2021-11-29T02:12:43.702424",
     "status": "completed"
    },
    "tags": []
   },
   "source": [
    "# haven't addressed outliers"
   ]
  },
  {
   "cell_type": "markdown",
   "metadata": {
    "papermill": {
     "duration": 0.053163,
     "end_time": "2021-11-29T02:12:43.860998",
     "exception": false,
     "start_time": "2021-11-29T02:12:43.807835",
     "status": "completed"
    },
    "tags": []
   },
   "source": [
    "# example of using SMOTE on logistic regression"
   ]
  },
  {
   "cell_type": "code",
   "execution_count": null,
   "metadata": {
    "execution": {
     "iopub.execute_input": "2021-11-29T02:12:43.971076Z",
     "iopub.status.busy": "2021-11-29T02:12:43.970087Z",
     "iopub.status.idle": "2021-11-29T02:12:44.319425Z",
     "shell.execute_reply": "2021-11-29T02:12:44.319874Z",
     "shell.execute_reply.started": "2021-11-29T01:30:59.300029Z"
    },
    "papermill": {
     "duration": 0.406008,
     "end_time": "2021-11-29T02:12:44.320084",
     "exception": false,
     "start_time": "2021-11-29T02:12:43.914076",
     "status": "completed"
    },
    "tags": []
   },
   "outputs": [],
   "source": [
    "from sklearn.model_selection import KFold, StratifiedKFold\n",
    "from sklearn.model_selection import StratifiedShuffleSplit\n",
    "sss = StratifiedKFold(n_splits=5, random_state=None, shuffle=False)\n",
    "\n",
    "for train_index, test_index in sss.split(X, target):\n",
    "    print(\"Train:\", train_index, \"Test:\", test_index)\n",
    "    original_Xtrain, original_Xtest = X.iloc[train_index,:], X.iloc[test_index,:]\n",
    "    original_ytrain, original_ytest = target.iloc[train_index], target.iloc[test_index]\n",
    "\n",
    "# We already have X_train and y_train for undersample data thats why I am using original to distinguish and to not overwrite these variables.\n",
    "# original_Xtrain, original_Xtest, original_ytrain, original_ytest = train_test_split(X, y, test_size=0.2, random_state=42)\n",
    "\n",
    "# Check the Distribution of the labels\n",
    "\n",
    "\n",
    "# Turn into an array\n",
    "original_Xtrain = original_Xtrain.values\n",
    "original_Xtest = original_Xtest.values\n",
    "original_ytrain = original_ytrain.values\n",
    "original_ytest = original_ytest.values\n",
    "\n"
   ]
  },
  {
   "cell_type": "code",
   "execution_count": null,
   "metadata": {
    "execution": {
     "iopub.execute_input": "2021-11-29T02:12:44.440721Z",
     "iopub.status.busy": "2021-11-29T02:12:44.440063Z",
     "iopub.status.idle": "2021-11-29T02:12:44.442981Z",
     "shell.execute_reply": "2021-11-29T02:12:44.443480Z",
     "shell.execute_reply.started": "2021-11-29T01:33:34.556514Z"
    },
    "papermill": {
     "duration": 0.067169,
     "end_time": "2021-11-29T02:12:44.443653",
     "exception": false,
     "start_time": "2021-11-29T02:12:44.376484",
     "status": "completed"
    },
    "tags": []
   },
   "outputs": [],
   "source": [
    "from imblearn.over_sampling import SMOTE\n",
    "from sklearn.model_selection import train_test_split, RandomizedSearchCV\n",
    "from sklearn.linear_model import LogisticRegression\n",
    "from imblearn.pipeline import make_pipeline as imbalanced_make_pipeline\n",
    "print('Length of X (train): {} | Length of y (train): {}'.format(len(original_Xtrain), len(original_ytrain)))\n",
    "print('Length of X (test): {} | Length of y (test): {}'.format(len(original_Xtest), len(original_ytest)))\n",
    "\n",
    "# List to append the score and then find the average\n",
    "accuracy_lst = []\n",
    "precision_lst = []\n",
    "recall_lst = []\n",
    "f1_lst = []\n",
    "auc_lst = []\n",
    "\n",
    "# Classifier with optimal parameters\n",
    "# log_reg_sm = grid_log_reg.best_estimator_\n",
    "log_reg_sm = LogisticRegression(solver='liblinear')\n",
    "\n",
    "log_reg_params = {\"penalty\": ['l2'], 'C': [0.001, 0.01, 0.1, 1, 10, 100, 1000]}\n",
    "\n",
    "\n",
    "rand_log_reg = RandomizedSearchCV(LogisticRegression(solver='liblinear'), log_reg_params, n_iter=4)\n",
    "\n",
    "\n",
    "# Implementing SMOTE Technique \n",
    "# Cross Validating the right way\n",
    "# Parameters\n",
    "\n"
   ]
  },
  {
   "cell_type": "code",
   "execution_count": null,
   "metadata": {
    "execution": {
     "iopub.execute_input": "2021-11-29T02:12:44.554130Z",
     "iopub.status.busy": "2021-11-29T02:12:44.553473Z",
     "iopub.status.idle": "2021-11-29T02:21:09.618678Z",
     "shell.execute_reply": "2021-11-29T02:21:09.619225Z",
     "shell.execute_reply.started": "2021-11-29T01:36:16.562166Z"
    },
    "papermill": {
     "duration": 505.121064,
     "end_time": "2021-11-29T02:21:09.619417",
     "exception": false,
     "start_time": "2021-11-29T02:12:44.498353",
     "status": "completed"
    },
    "tags": []
   },
   "outputs": [],
   "source": [
    "from sklearn.metrics import precision_score, recall_score, f1_score, roc_auc_score, accuracy_score, classification_report\n",
    "for train, test in sss.split(original_Xtrain, original_ytrain):\n",
    "    pipeline = imbalanced_make_pipeline(SMOTE(sampling_strategy='minority'), rand_log_reg) # SMOTE happens during Cross Validation not before..\n",
    "    model = pipeline.fit(original_Xtrain[train], original_ytrain[train])\n",
    "    best_est = rand_log_reg.best_estimator_\n",
    "    prediction = best_est.predict(original_Xtrain[test])\n",
    "    \n",
    "    accuracy_lst.append(pipeline.score(original_Xtrain[test], original_ytrain[test]))\n",
    "    precision_lst.append(precision_score(original_ytrain[test], prediction))\n",
    "    recall_lst.append(recall_score(original_ytrain[test], prediction))\n",
    "    f1_lst.append(f1_score(original_ytrain[test], prediction))\n",
    "    auc_lst.append(roc_auc_score(original_ytrain[test], prediction))\n",
    "    \n",
    "print('---' * 45)\n",
    "print('')\n",
    "print(\"accuracy: {}\".format(np.mean(accuracy_lst)))\n",
    "print(\"precision: {}\".format(np.mean(precision_lst)))\n",
    "print(\"recall: {}\".format(np.mean(recall_lst)))\n",
    "print(\"f1: {}\".format(np.mean(f1_lst)))\n",
    "print('---' * 45)"
   ]
  },
  {
   "cell_type": "code",
   "execution_count": null,
   "metadata": {
    "papermill": {
     "duration": 0.052776,
     "end_time": "2021-11-29T02:21:09.723937",
     "exception": false,
     "start_time": "2021-11-29T02:21:09.671161",
     "status": "completed"
    },
    "tags": []
   },
   "outputs": [],
   "source": []
  },
  {
   "cell_type": "code",
   "execution_count": null,
   "metadata": {
    "papermill": {
     "duration": 0.051695,
     "end_time": "2021-11-29T02:21:09.827280",
     "exception": false,
     "start_time": "2021-11-29T02:21:09.775585",
     "status": "completed"
    },
    "tags": []
   },
   "outputs": [],
   "source": []
  },
  {
   "cell_type": "code",
   "execution_count": null,
   "metadata": {
    "papermill": {
     "duration": 0.055243,
     "end_time": "2021-11-29T02:21:09.934972",
     "exception": false,
     "start_time": "2021-11-29T02:21:09.879729",
     "status": "completed"
    },
    "tags": []
   },
   "outputs": [],
   "source": []
  },
  {
   "cell_type": "code",
   "execution_count": null,
   "metadata": {
    "papermill": {
     "duration": 0.054482,
     "end_time": "2021-11-29T02:21:10.043121",
     "exception": false,
     "start_time": "2021-11-29T02:21:09.988639",
     "status": "completed"
    },
    "tags": []
   },
   "outputs": [],
   "source": []
  },
  {
   "cell_type": "code",
   "execution_count": null,
   "metadata": {
    "papermill": {
     "duration": 0.054321,
     "end_time": "2021-11-29T02:21:10.152507",
     "exception": false,
     "start_time": "2021-11-29T02:21:10.098186",
     "status": "completed"
    },
    "tags": []
   },
   "outputs": [],
   "source": []
  }
 ],
 "metadata": {
  "kernelspec": {
   "display_name": "Python 3",
   "language": "python",
   "name": "python3"
  },
  "language_info": {
   "codemirror_mode": {
    "name": "ipython",
    "version": 3
   },
   "file_extension": ".py",
   "mimetype": "text/x-python",
   "name": "python",
   "nbconvert_exporter": "python",
   "pygments_lexer": "ipython3",
   "version": "3.8.5"
  },
  "papermill": {
   "default_parameters": {},
   "duration": 859.073631,
   "end_time": "2021-11-29T02:21:11.020027",
   "environment_variables": {},
   "exception": null,
   "input_path": "__notebook__.ipynb",
   "output_path": "__notebook__.ipynb",
   "parameters": {},
   "start_time": "2021-11-29T02:06:51.946396",
   "version": "2.3.3"
  }
 },
 "nbformat": 4,
 "nbformat_minor": 5
}
